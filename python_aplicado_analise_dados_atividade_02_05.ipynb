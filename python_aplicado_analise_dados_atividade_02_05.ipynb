{
  "nbformat": 4,
  "nbformat_minor": 0,
  "metadata": {
    "colab": {
      "provenance": [],
      "authorship_tag": "ABX9TyNopLIhefuJrTYBvNIu2wjO",
      "include_colab_link": true
    },
    "kernelspec": {
      "name": "python3",
      "display_name": "Python 3"
    },
    "language_info": {
      "name": "python"
    }
  },
  "cells": [
    {
      "cell_type": "markdown",
      "metadata": {
        "id": "view-in-github",
        "colab_type": "text"
      },
      "source": [
        "<a href=\"https://colab.research.google.com/github/luqmarqs/especializacao-data-science/blob/main/python_aplicado_analise_dados_atividade_02_05.ipynb\" target=\"_parent\"><img src=\"https://colab.research.google.com/assets/colab-badge.svg\" alt=\"Open In Colab\"/></a>"
      ]
    },
    {
      "cell_type": "markdown",
      "source": [
        "# Desenvolva as questões abaixo em linguagem Python, utilizando o Jupyter Notebook disponibilizado dentro da distribuição Anaconda. "
      ],
      "metadata": {
        "id": "GttFAQohAHUF"
      }
    },
    {
      "cell_type": "markdown",
      "source": [
        "Questão 1: Escreva um programa que receba dois números inteiros como entrada e imprima sua soma, diferença, produto e quociente."
      ],
      "metadata": {
        "id": "CM5gTRBL6S_N"
      }
    },
    {
      "cell_type": "code",
      "source": [
        "''' Autor: Lucas Marques de almeida\n",
        "    04/05/2023\n",
        "'''\n",
        "num_a = int(input(\"Digite o primeiro número\"))\n",
        "num_b = int(input(\"Digite o segundo número\"))\n",
        "\n",
        "#Soma\n",
        "print(num_a + num_b)\n",
        "\n",
        "#Diferença\n",
        "print(num_a - num_b)\n",
        "\n",
        "#Produto\n",
        "print(num_a * num_b)\n",
        "\n",
        "#Quociente\n",
        "print(num_a / num_b)"
      ],
      "metadata": {
        "colab": {
          "base_uri": "https://localhost:8080/"
        },
        "id": "qz7sQ-aJ6WUq",
        "outputId": "acddcac3-28fa-41d6-8210-8eaebc90e9a3"
      },
      "execution_count": 1,
      "outputs": [
        {
          "output_type": "stream",
          "name": "stdout",
          "text": [
            "Digite o primeiro número2\n",
            "Digite o segundo número3\n",
            "5\n",
            "-1\n",
            "6\n",
            "0.6666666666666666\n"
          ]
        }
      ]
    },
    {
      "cell_type": "markdown",
      "source": [
        "Questão 2: Escreva um programa que receba uma string como entrada e imprima seu comprimento, todas as letras maiúsculas, todas as letras minúsculas e o primeiro e último caracteres."
      ],
      "metadata": {
        "id": "p5Klj4KP7GyD"
      }
    },
    {
      "cell_type": "code",
      "source": [
        "''' Autor: Lucas Marques de almeida\n",
        "    04/05/2023\n",
        "'''\n",
        "\n",
        "string = input(\"Digite um texto\")\n",
        "\n",
        "#comprimento\n",
        "print(len(string))\n",
        "\n",
        "#letras maiúsculas\n",
        "print(string.upper())\n",
        "\n",
        "#letras minúsculas\n",
        "print(string.lower())\n",
        "\n",
        "#primeiro e último caracteres\n",
        "print(string[0], \" \", string[len(string) - 1])\n",
        "\n"
      ],
      "metadata": {
        "colab": {
          "base_uri": "https://localhost:8080/"
        },
        "id": "dUTH8lWg7w5B",
        "outputId": "685a7dd0-4deb-4c63-e055-9f646b841a77"
      },
      "execution_count": 2,
      "outputs": [
        {
          "output_type": "stream",
          "name": "stdout",
          "text": [
            "Digite um textomeu TexTo\n",
            "9\n",
            "MEU TEXTO\n",
            "meu texto\n",
            "m   o\n"
          ]
        }
      ]
    },
    {
      "cell_type": "markdown",
      "source": [
        "Questão 3: Escreva um programa que receba uma lista de números inteiros como entrada e imprima apenas os números pares."
      ],
      "metadata": {
        "id": "a39vvzjE9Iq3"
      }
    },
    {
      "cell_type": "code",
      "source": [
        "''' Autor: Lucas Marques de almeida\n",
        "    04/05/2023\n",
        "'''\n",
        "\n",
        "n = int(input(\"Quantos elementos terá a lista? \"))\n",
        "lst = []\n",
        "\n",
        "for i in range(0 , n):\n",
        "  item = int(input(\"Digite o número: \"))\n",
        "  lst.append(item)\n",
        "\n",
        "#imprimindo os pares\n",
        "for i in range(0, n):\n",
        "  if lst[i] % 2 == 0:\n",
        "    print(lst[i])\n",
        "\n"
      ],
      "metadata": {
        "colab": {
          "base_uri": "https://localhost:8080/"
        },
        "id": "3GO40mu39Mjw",
        "outputId": "0b4194e3-8143-4a6e-f45e-b886f2512304"
      },
      "execution_count": 3,
      "outputs": [
        {
          "output_type": "stream",
          "name": "stdout",
          "text": [
            "Quantos elementos terá a lista? 5\n",
            "Digite o número: 1\n",
            "Digite o número: 2\n",
            "Digite o número: 3\n",
            "Digite o número: 4\n",
            "Digite o número: 5\n",
            "2  \n",
            "4  \n"
          ]
        }
      ]
    },
    {
      "cell_type": "markdown",
      "source": [
        "Questão 4: Escreva um programa que receba uma lista de strings como entrada e imprima apenas as strings com mais de 4 caracteres."
      ],
      "metadata": {
        "id": "c4XExrH1_IIJ"
      }
    },
    {
      "cell_type": "code",
      "source": [
        "''' Autor: Lucas Marques de almeida\n",
        "    04/05/2023\n",
        "'''\n",
        "\n",
        "n = int(input(\"Quantos elementos terá a lista? \"))\n",
        "lst = []\n",
        "\n",
        "for i in range(0 , n):\n",
        "  item = input(\"Digite a string: \")\n",
        "  lst.append(item)\n",
        "\n",
        "#imprimindo as strings com mais de 4 caracteres\n",
        "for i in range(0, n):\n",
        "  if len(lst[i]) > 4:\n",
        "    print(lst[i])"
      ],
      "metadata": {
        "colab": {
          "base_uri": "https://localhost:8080/"
        },
        "id": "YgtfMdAz_OIQ",
        "outputId": "bc4f2e31-8e61-4932-a502-ef3ceaae99c5"
      },
      "execution_count": 5,
      "outputs": [
        {
          "output_type": "stream",
          "name": "stdout",
          "text": [
            "Quantos elementos terá a lista? 5\n",
            "Digite a string: fghdfgh\n",
            "Digite a string: sd\n",
            "Digite a string: dffds\n",
            "Digite a string: d\n",
            "Digite a string: gfgd\n",
            "fghdfgh\n",
            "dffds\n"
          ]
        }
      ]
    }
  ]
}