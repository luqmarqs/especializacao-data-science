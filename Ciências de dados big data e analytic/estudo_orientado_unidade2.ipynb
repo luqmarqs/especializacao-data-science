{
 "cells": [
  {
   "cell_type": "code",
   "execution_count": 4,
   "id": "eecb36e0",
   "metadata": {},
   "outputs": [
    {
     "data": {
      "text/html": [
       "<div>\n",
       "<style scoped>\n",
       "    .dataframe tbody tr th:only-of-type {\n",
       "        vertical-align: middle;\n",
       "    }\n",
       "\n",
       "    .dataframe tbody tr th {\n",
       "        vertical-align: top;\n",
       "    }\n",
       "\n",
       "    .dataframe thead th {\n",
       "        text-align: right;\n",
       "    }\n",
       "</style>\n",
       "<table border=\"1\" class=\"dataframe\">\n",
       "  <thead>\n",
       "    <tr style=\"text-align: right;\">\n",
       "      <th></th>\n",
       "      <th>Cidade</th>\n",
       "      <th>Total de doentes</th>\n",
       "      <th>Total de Curados</th>\n",
       "      <th>Total de Pessoas que fizeram o tratamento</th>\n",
       "    </tr>\n",
       "  </thead>\n",
       "  <tbody>\n",
       "    <tr>\n",
       "      <th>0</th>\n",
       "      <td>São Paulo</td>\n",
       "      <td>19045.0</td>\n",
       "      <td>12345.0</td>\n",
       "      <td>NaN</td>\n",
       "    </tr>\n",
       "    <tr>\n",
       "      <th>1</th>\n",
       "      <td>Rio de Janeiro</td>\n",
       "      <td>NaN</td>\n",
       "      <td>10890.0</td>\n",
       "      <td>1359.0</td>\n",
       "    </tr>\n",
       "    <tr>\n",
       "      <th>2</th>\n",
       "      <td>João Pessoa</td>\n",
       "      <td>8901.0</td>\n",
       "      <td>5467.0</td>\n",
       "      <td>6578.0</td>\n",
       "    </tr>\n",
       "    <tr>\n",
       "      <th>3</th>\n",
       "      <td>Porto Alegre</td>\n",
       "      <td>13467.0</td>\n",
       "      <td>NaN</td>\n",
       "      <td>3467.0</td>\n",
       "    </tr>\n",
       "    <tr>\n",
       "      <th>4</th>\n",
       "      <td>Manaus</td>\n",
       "      <td>14569.0</td>\n",
       "      <td>NaN</td>\n",
       "      <td>NaN</td>\n",
       "    </tr>\n",
       "  </tbody>\n",
       "</table>\n",
       "</div>"
      ],
      "text/plain": [
       "           Cidade  Total de doentes  Total de Curados  \\\n",
       "0       São Paulo           19045.0           12345.0   \n",
       "1  Rio de Janeiro               NaN           10890.0   \n",
       "2     João Pessoa            8901.0            5467.0   \n",
       "3    Porto Alegre           13467.0               NaN   \n",
       "4          Manaus           14569.0               NaN   \n",
       "\n",
       "   Total de Pessoas que fizeram o tratamento  \n",
       "0                                        NaN  \n",
       "1                                     1359.0  \n",
       "2                                     6578.0  \n",
       "3                                     3467.0  \n",
       "4                                        NaN  "
      ]
     },
     "execution_count": 4,
     "metadata": {},
     "output_type": "execute_result"
    }
   ],
   "source": [
    "#Importar biblioteca e criar dataframe\n",
    "\n",
    "import pandas as pd\n",
    "\n",
    "data = {'Cidade':['São Paulo', 'Rio de Janeiro', 'João Pessoa', 'Porto Alegre','Manaus'], 'Total de doentes':[19045, None, 8901, 13467, 14569], 'Total de Curados':[12345, 10890, 5467, None, None], 'Total de Pessoas que fizeram o tratamento':[None, 1359, 6578, 3467, None]}\n",
    "\n",
    "df=pd.DataFrame(data)\n",
    "\n",
    "df"
   ]
  },
  {
   "cell_type": "code",
   "execution_count": 8,
   "id": "7390e89b",
   "metadata": {},
   "outputs": [
    {
     "name": "stderr",
     "output_type": "stream",
     "text": [
      "C:\\Users\\Lucas Marques\\AppData\\Local\\Temp\\ipykernel_26880\\2952875411.py:2: FutureWarning: Dropping of nuisance columns in DataFrame reductions (with 'numeric_only=None') is deprecated; in a future version this will raise TypeError.  Select only valid columns before calling the reduction.\n",
      "  df.fillna(df.mean(0))\n"
     ]
    },
    {
     "data": {
      "text/html": [
       "<div>\n",
       "<style scoped>\n",
       "    .dataframe tbody tr th:only-of-type {\n",
       "        vertical-align: middle;\n",
       "    }\n",
       "\n",
       "    .dataframe tbody tr th {\n",
       "        vertical-align: top;\n",
       "    }\n",
       "\n",
       "    .dataframe thead th {\n",
       "        text-align: right;\n",
       "    }\n",
       "</style>\n",
       "<table border=\"1\" class=\"dataframe\">\n",
       "  <thead>\n",
       "    <tr style=\"text-align: right;\">\n",
       "      <th></th>\n",
       "      <th>Cidade</th>\n",
       "      <th>Total de doentes</th>\n",
       "      <th>Total de Curados</th>\n",
       "      <th>Total de Pessoas que fizeram o tratamento</th>\n",
       "    </tr>\n",
       "  </thead>\n",
       "  <tbody>\n",
       "    <tr>\n",
       "      <th>0</th>\n",
       "      <td>São Paulo</td>\n",
       "      <td>19045.0</td>\n",
       "      <td>12345.000000</td>\n",
       "      <td>3801.333333</td>\n",
       "    </tr>\n",
       "    <tr>\n",
       "      <th>1</th>\n",
       "      <td>Rio de Janeiro</td>\n",
       "      <td>13995.5</td>\n",
       "      <td>10890.000000</td>\n",
       "      <td>1359.000000</td>\n",
       "    </tr>\n",
       "    <tr>\n",
       "      <th>2</th>\n",
       "      <td>João Pessoa</td>\n",
       "      <td>8901.0</td>\n",
       "      <td>5467.000000</td>\n",
       "      <td>6578.000000</td>\n",
       "    </tr>\n",
       "    <tr>\n",
       "      <th>3</th>\n",
       "      <td>Porto Alegre</td>\n",
       "      <td>13467.0</td>\n",
       "      <td>9567.333333</td>\n",
       "      <td>3467.000000</td>\n",
       "    </tr>\n",
       "    <tr>\n",
       "      <th>4</th>\n",
       "      <td>Manaus</td>\n",
       "      <td>14569.0</td>\n",
       "      <td>9567.333333</td>\n",
       "      <td>3801.333333</td>\n",
       "    </tr>\n",
       "  </tbody>\n",
       "</table>\n",
       "</div>"
      ],
      "text/plain": [
       "           Cidade  Total de doentes  Total de Curados  \\\n",
       "0       São Paulo           19045.0      12345.000000   \n",
       "1  Rio de Janeiro           13995.5      10890.000000   \n",
       "2     João Pessoa            8901.0       5467.000000   \n",
       "3    Porto Alegre           13467.0       9567.333333   \n",
       "4          Manaus           14569.0       9567.333333   \n",
       "\n",
       "   Total de Pessoas que fizeram o tratamento  \n",
       "0                                3801.333333  \n",
       "1                                1359.000000  \n",
       "2                                6578.000000  \n",
       "3                                3467.000000  \n",
       "4                                3801.333333  "
      ]
     },
     "execution_count": 8,
     "metadata": {},
     "output_type": "execute_result"
    }
   ],
   "source": [
    "#Excluindo os valores nulos pela média da coluna, a simples exclusão deixaria apenas uma linha de dados\n",
    "df.fillna(df.mean(0))"
   ]
  },
  {
   "cell_type": "code",
   "execution_count": 11,
   "id": "7fe8a603",
   "metadata": {},
   "outputs": [
    {
     "name": "stdout",
     "output_type": "stream",
     "text": [
      "13995.5 9567.333333333334 3801.3333333333335\n"
     ]
    }
   ],
   "source": [
    "import numpy as np\n",
    "\n",
    "#Medidas de posição\n",
    "\n",
    "#Médias\n",
    "media_total_doentes = np.mean(df['Total de doentes'])\n",
    "media_total_curados = np.mean(df['Total de Curados'])\n",
    "media_total_tratamento = np.mean(df['Total de Pessoas que fizeram o tratamento'])\n",
    "\n",
    "print(media_total_doentes, media_total_curados, media_total_tratamento)\n"
   ]
  },
  {
   "cell_type": "code",
   "execution_count": 13,
   "id": "e7362fbf",
   "metadata": {},
   "outputs": [
    {
     "name": "stdout",
     "output_type": "stream",
     "text": [
      "nan nan nan\n"
     ]
    }
   ],
   "source": [
    "#Medianas\n",
    "mediana_total_doentes = np.median(df['Total de doentes'])\n",
    "mediana_total_curados = np.median(df['Total de Curados'])\n",
    "mediana_total_tratamento = np.median(df['Total de Pessoas que fizeram o tratamento'])\n",
    "\n",
    "print(mediana_total_doentes, mediana_total_curados, mediana_total_tratamento)\n",
    "\n",
    "##OBS: professor, por que está retornando nan?"
   ]
  },
  {
   "cell_type": "code",
   "execution_count": 16,
   "id": "14ff7242",
   "metadata": {},
   "outputs": [
    {
     "name": "stdout",
     "output_type": "stream",
     "text": [
      "0     8901.0\n",
      "1    13467.0\n",
      "2    14569.0\n",
      "3    19045.0\n",
      "Name: Total de doentes, dtype: float64 0     5467.0\n",
      "1    10890.0\n",
      "2    12345.0\n",
      "Name: Total de Curados, dtype: float64 0    1359.0\n",
      "1    3467.0\n",
      "2    6578.0\n",
      "Name: Total de Pessoas que fizeram o tratamento, dtype: float64\n"
     ]
    }
   ],
   "source": [
    "#Moda\n",
    "moda_total_doentes = df['Total de doentes'].mode()\n",
    "moda_total_curados = df['Total de Curados'].mode()\n",
    "moda_total_tratamento = df['Total de Pessoas que fizeram o tratamento'].mode()\n",
    "\n",
    "print(moda_total_doentes, moda_total_curados, moda_total_tratamento)"
   ]
  },
  {
   "cell_type": "code",
   "execution_count": 17,
   "id": "a6dbde81",
   "metadata": {},
   "outputs": [
    {
     "name": "stderr",
     "output_type": "stream",
     "text": [
      "D:\\anaconda\\lib\\site-packages\\numpy\\core\\fromnumeric.py:3721: FutureWarning: Dropping of nuisance columns in DataFrame reductions (with 'numeric_only=None') is deprecated; in a future version this will raise TypeError.  Select only valid columns before calling the reduction.\n",
      "  return var(axis=axis, dtype=dtype, out=out, ddof=ddof, **kwargs)\n",
      "D:\\anaconda\\lib\\site-packages\\numpy\\core\\fromnumeric.py:3579: FutureWarning: Dropping of nuisance columns in DataFrame reductions (with 'numeric_only=None') is deprecated; in a future version this will raise TypeError.  Select only valid columns before calling the reduction.\n",
      "  return std(axis=axis, dtype=dtype, out=out, ddof=ddof, **kwargs)\n"
     ]
    },
    {
     "data": {
      "text/plain": [
       "Total de doentes                             3607.616769\n",
       "Total de Curados                             2959.595280\n",
       "Total de Pessoas que fizeram o tratamento    2143.723293\n",
       "dtype: float64"
      ]
     },
     "execution_count": 17,
     "metadata": {},
     "output_type": "execute_result"
    }
   ],
   "source": [
    "#Medidas de dispersão\n",
    "\n",
    "#Variância\n",
    "np.var(df)\n",
    "\n",
    "#Desvio padrão\n",
    "np.std(df)"
   ]
  },
  {
   "cell_type": "code",
   "execution_count": 18,
   "id": "47656fb9",
   "metadata": {},
   "outputs": [
    {
     "data": {
      "text/html": [
       "<div>\n",
       "<style scoped>\n",
       "    .dataframe tbody tr th:only-of-type {\n",
       "        vertical-align: middle;\n",
       "    }\n",
       "\n",
       "    .dataframe tbody tr th {\n",
       "        vertical-align: top;\n",
       "    }\n",
       "\n",
       "    .dataframe thead th {\n",
       "        text-align: right;\n",
       "    }\n",
       "</style>\n",
       "<table border=\"1\" class=\"dataframe\">\n",
       "  <thead>\n",
       "    <tr style=\"text-align: right;\">\n",
       "      <th></th>\n",
       "      <th>Total de doentes</th>\n",
       "      <th>Total de Curados</th>\n",
       "      <th>Total de Pessoas que fizeram o tratamento</th>\n",
       "    </tr>\n",
       "  </thead>\n",
       "  <tbody>\n",
       "    <tr>\n",
       "      <th>count</th>\n",
       "      <td>4.000000</td>\n",
       "      <td>3.000000</td>\n",
       "      <td>3.000000</td>\n",
       "    </tr>\n",
       "    <tr>\n",
       "      <th>mean</th>\n",
       "      <td>13995.500000</td>\n",
       "      <td>9567.333333</td>\n",
       "      <td>3801.333333</td>\n",
       "    </tr>\n",
       "    <tr>\n",
       "      <th>std</th>\n",
       "      <td>4165.717025</td>\n",
       "      <td>3624.749141</td>\n",
       "      <td>2625.514108</td>\n",
       "    </tr>\n",
       "    <tr>\n",
       "      <th>min</th>\n",
       "      <td>8901.000000</td>\n",
       "      <td>5467.000000</td>\n",
       "      <td>1359.000000</td>\n",
       "    </tr>\n",
       "    <tr>\n",
       "      <th>25%</th>\n",
       "      <td>12325.500000</td>\n",
       "      <td>8178.500000</td>\n",
       "      <td>2413.000000</td>\n",
       "    </tr>\n",
       "    <tr>\n",
       "      <th>50%</th>\n",
       "      <td>14018.000000</td>\n",
       "      <td>10890.000000</td>\n",
       "      <td>3467.000000</td>\n",
       "    </tr>\n",
       "    <tr>\n",
       "      <th>75%</th>\n",
       "      <td>15688.000000</td>\n",
       "      <td>11617.500000</td>\n",
       "      <td>5022.500000</td>\n",
       "    </tr>\n",
       "    <tr>\n",
       "      <th>max</th>\n",
       "      <td>19045.000000</td>\n",
       "      <td>12345.000000</td>\n",
       "      <td>6578.000000</td>\n",
       "    </tr>\n",
       "  </tbody>\n",
       "</table>\n",
       "</div>"
      ],
      "text/plain": [
       "       Total de doentes  Total de Curados  \\\n",
       "count          4.000000          3.000000   \n",
       "mean       13995.500000       9567.333333   \n",
       "std         4165.717025       3624.749141   \n",
       "min         8901.000000       5467.000000   \n",
       "25%        12325.500000       8178.500000   \n",
       "50%        14018.000000      10890.000000   \n",
       "75%        15688.000000      11617.500000   \n",
       "max        19045.000000      12345.000000   \n",
       "\n",
       "       Total de Pessoas que fizeram o tratamento  \n",
       "count                                   3.000000  \n",
       "mean                                 3801.333333  \n",
       "std                                  2625.514108  \n",
       "min                                  1359.000000  \n",
       "25%                                  2413.000000  \n",
       "50%                                  3467.000000  \n",
       "75%                                  5022.500000  \n",
       "max                                  6578.000000  "
      ]
     },
     "execution_count": 18,
     "metadata": {},
     "output_type": "execute_result"
    }
   ],
   "source": [
    "#Conjunto de dados\n",
    "df.describe()"
   ]
  },
  {
   "cell_type": "code",
   "execution_count": null,
   "id": "4fda44ae",
   "metadata": {},
   "outputs": [],
   "source": []
  }
 ],
 "metadata": {
  "kernelspec": {
   "display_name": "Python 3 (ipykernel)",
   "language": "python",
   "name": "python3"
  },
  "language_info": {
   "codemirror_mode": {
    "name": "ipython",
    "version": 3
   },
   "file_extension": ".py",
   "mimetype": "text/x-python",
   "name": "python",
   "nbconvert_exporter": "python",
   "pygments_lexer": "ipython3",
   "version": "3.9.13"
  }
 },
 "nbformat": 4,
 "nbformat_minor": 5
}
