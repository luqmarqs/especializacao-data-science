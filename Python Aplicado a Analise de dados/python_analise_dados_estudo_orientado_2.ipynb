{
  "nbformat": 4,
  "nbformat_minor": 0,
  "metadata": {
    "colab": {
      "provenance": []
    },
    "kernelspec": {
      "name": "python3",
      "display_name": "Python 3"
    },
    "language_info": {
      "name": "python"
    }
  },
  "cells": [
    {
      "cell_type": "code",
      "execution_count": 5,
      "metadata": {
        "colab": {
          "base_uri": "https://localhost:8080/"
        },
        "id": "z_USfs4gtTOu",
        "outputId": "343597dc-3cd9-4f74-a869-4714d6e1e016"
      },
      "outputs": [
        {
          "output_type": "stream",
          "name": "stdout",
          "text": [
            "        Cliente        Região       Mês  Valor Compra\n",
            "0     Cliente 4      Nordeste     Junho   1164.000000\n",
            "1     Cliente 1  Centro-Oeste     Junho   1517.000000\n",
            "2     Cliente 5      Nordeste  Setembro   2993.000000\n",
            "3    Cliente 10           NaN     Março   1490.000000\n",
            "4    Cliente 13           Sul  Novembro   2087.000000\n",
            "..          ...           ...       ...           ...\n",
            "625   Cliente 2  Centro-Oeste    Agosto   3804.676259\n",
            "626   Cliente 3  Centro-Oeste     Julho   1602.697842\n",
            "627   Cliente 9         Norte     Março   3681.294964\n",
            "628  Cliente 13           Sul  Setembro   4265.467626\n",
            "629   Cliente 9         Norte  Dezembro   3536.000000\n",
            "\n",
            "[630 rows x 4 columns]\n",
            "Qual a região com a maior quantidade de vendas? \n",
            "Sudeste   158\n",
            "##################\n",
            "Qual a região que rendeu maiores valores em reais?\n",
            "Sudeste   486405.59712230216\n",
            "##################\n",
            "A região com maior quantidade de vendas está entre as que renderam maiores valores em reais?\n",
            "sim\n",
            "##################\n",
            "Qual número atual de clientes em cada uma das 5 regiões?\n",
            "Região\n",
            "Centro-Oeste    146\n",
            "Nordeste         95\n",
            "Norte           122\n",
            "Sudeste         158\n",
            "Sul             101\n",
            "Name: Cliente, dtype: int64\n",
            "##################\n",
            "As regiões mais rentáveis são as que possuem o maior número de clientes?\n",
            "Sim\n"
          ]
        }
      ],
      "source": [
        "import pandas as pd\n",
        "import numpy as np\n",
        "\n",
        "data = pd.read_csv(\"dados_vendas.csv\")\n",
        "print(data)\n",
        "\n",
        "# 1. Qual a região com a maior quantidade de vendas?\n",
        "print(\"Qual a região com a maior quantidade de vendas? \")\n",
        "regiao_vendas = data.groupby(\"Região\").size().idxmax()\n",
        "quantidade = data.groupby(\"Região\").size().max()\n",
        "\n",
        "print(regiao_vendas, \" \", quantidade)\n",
        "\n",
        "# 2. Qual a região que rendeu maiores valores em reais?\n",
        "print(\"##################\")\n",
        "print(\"Qual a região que rendeu maiores valores em reais?\")\n",
        "regiao_valor = data.groupby(\"Região\")[\"Valor Compra\"].sum().idxmax()\n",
        "valor = data.groupby(\"Região\")[\"Valor Compra\"].sum().max()\n",
        "\n",
        "print(regiao_valor, \" \", valor)\n",
        "\n",
        "# 3. A região com maior quantidade de vendas está entre as que renderam maiores valores em reais?\n",
        "print(\"##################\")\n",
        "print(\"A região com maior quantidade de vendas está entre as que renderam maiores valores em reais?\")\n",
        "if regiao_vendas == regiao_valor:\n",
        "  print(\"sim\")\n",
        "else:\n",
        "  print(\"não\")\n",
        "\n",
        "\n",
        "# 4. Qual número atual de clientes em cada uma das 5 regiões?\n",
        "print(\"##################\")\n",
        "print(\"Qual número atual de clientes em cada uma das 5 regiões?\")\n",
        "total_clientes = data.groupby(\"Região\")[\"Cliente\"].count()\n",
        "\n",
        "print(total_clientes)\n",
        "\n",
        "# 5. As regiões mais rentáveis são as que possuem o maior número de clientes?\n",
        "regiao_clientes = data.groupby(\"Região\")[\"Cliente\"].count().idxmax()\n",
        "print(\"##################\")\n",
        "print(\"As regiões mais rentáveis são as que possuem o maior número de clientes?\")\n",
        "if regiao_clientes == regiao_valor:\n",
        "  print(\"Sim\")\n",
        "else:\n",
        "  print(\"Não\")\n"
      ]
    },
    {
      "cell_type": "code",
      "source": [],
      "metadata": {
        "colab": {
          "base_uri": "https://localhost:8080/"
        },
        "id": "Cke4MIi-x0j8",
        "outputId": "815d9090-1fe3-42c5-8230-90eaea3fccba"
      },
      "execution_count": 38,
      "outputs": [
        {
          "output_type": "stream",
          "name": "stdout",
          "text": [
            "Sudeste\n"
          ]
        }
      ]
    }
  ]
}