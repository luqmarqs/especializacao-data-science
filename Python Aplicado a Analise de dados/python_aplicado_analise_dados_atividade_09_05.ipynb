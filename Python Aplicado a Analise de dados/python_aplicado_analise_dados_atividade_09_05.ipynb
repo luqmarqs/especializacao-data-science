{
  "nbformat": 4,
  "nbformat_minor": 0,
  "metadata": {
    "colab": {
      "provenance": []
    },
    "kernelspec": {
      "name": "python3",
      "display_name": "Python 3"
    },
    "language_info": {
      "name": "python"
    }
  },
  "cells": [
    {
      "cell_type": "markdown",
      "source": [
        "Nesta atividade, iremos praticar o conteúdo da nossa aula assíncrona de 08/05. Nessa aula, demos continuidade ao estudo da linguagem Python através das estruturas de dados Lista, Tupla e Dicionário."
      ],
      "metadata": {
        "id": "bCUtnTRBmjrZ"
      }
    },
    {
      "cell_type": "markdown",
      "source": [
        "Questão 1: Escreva um programa que receba uma lista de inteiros como entrada e retorne uma nova lista contendo apenas os inteiros pares."
      ],
      "metadata": {
        "id": "K0LjyFfSmqsq"
      }
    },
    {
      "cell_type": "code",
      "source": [
        "''' Autor: Lucas Marques de Almeida\n",
        "    10/05/2023\n",
        "'''\n",
        "\n",
        "def retorna_pares(lst):\n",
        "  lst_pares = []\n",
        "\n",
        "  for i in range(0, len(lst) - 1):\n",
        "      if lst[i] % 2 == 0:\n",
        "        lst_pares.append(lst[i])\n",
        "\n",
        "\n",
        "  print(\"Lista de números pares: \", lst_pares)\n",
        "\n",
        "  return lst_pares\n",
        "\n",
        "\n",
        "lst = []\n",
        "\n",
        "n = int(input(\"Quantos números haverá na lista?\"))\n",
        "\n",
        "for i in range(0, n):\n",
        "    item = int(input())\n",
        "    lst.append(item)\n",
        "\n",
        "print(\"Lista completa: \", lst)\n",
        "\n",
        "retorna_pares(lst)\n",
        "\n",
        "\n"
      ],
      "metadata": {
        "colab": {
          "base_uri": "https://localhost:8080/"
        },
        "id": "r92QqRE9mvHd",
        "outputId": "4f11f941-5d91-4154-e82f-754b9bcd064b"
      },
      "execution_count": 8,
      "outputs": [
        {
          "output_type": "stream",
          "name": "stdout",
          "text": [
            "Quantos números haverá na lista?5\n",
            "1\n",
            "2\n",
            "3\n",
            "4\n",
            "5\n",
            "Lista completa:  [1, 2, 3, 4, 5]\n",
            "Lista de números pares:  [2, 4]\n"
          ]
        },
        {
          "output_type": "execute_result",
          "data": {
            "text/plain": [
              "[2, 4]"
            ]
          },
          "metadata": {},
          "execution_count": 8
        }
      ]
    },
    {
      "cell_type": "markdown",
      "source": [
        "Questão 2: Escreva um programa que recebe uma lista de tuplas como entrada, onde cada tupla contém o nome de um aluno e sua nota correspondente, e retorna uma nova lista de tuplas contendo apenas os nomes dos alunos que tiveram nota maior ou igual a 7,0."
      ],
      "metadata": {
        "id": "l7TGTMRst6Ju"
      }
    },
    {
      "cell_type": "code",
      "source": [
        "''' Autor: Lucas Marques de Almeida\n",
        "    10/05/2023\n",
        "'''\n",
        "\n",
        "def aprovados(lst):\n",
        "  for i in range(0, len(lst) - 1):\n",
        "    if lst[i][1] < 7:\n",
        "      del(lst[i])\n",
        "  return lst\n",
        "\n",
        "\n",
        "lst = [('João', 5), ('Maria', 8), ('Otávio', 9)]\n",
        "\n",
        "aprovados(lst)\n"
      ],
      "metadata": {
        "colab": {
          "base_uri": "https://localhost:8080/"
        },
        "id": "3gLO7hNAuBwD",
        "outputId": "86684d08-b29d-4022-e008-b3b27409f86f"
      },
      "execution_count": 9,
      "outputs": [
        {
          "output_type": "execute_result",
          "data": {
            "text/plain": [
              "[('Maria', 8), ('Otávio', 9)]"
            ]
          },
          "metadata": {},
          "execution_count": 9
        }
      ]
    },
    {
      "cell_type": "markdown",
      "source": [
        "Questão 3: Escreva um programa que receba uma lista de palavras como entrada e retorne um dicionário no qual as chaves são as palavras da lista e os valores são os comprimentos das palavras."
      ],
      "metadata": {
        "id": "ehby5LjJynWh"
      }
    },
    {
      "cell_type": "code",
      "source": [
        "''' Autor: Lucas Marques de Almeida\n",
        "    10/05/2023\n",
        "'''\n",
        "\n",
        "def comprimentos(lst):\n",
        "  lengths = []\n",
        "  for i in range(0, len(lst)):\n",
        "    item = []\n",
        "    item.append(lst[i])\n",
        "    item.append(len(lst[i]))\n",
        "    lengths.append(item)\n",
        "  return lengths\n",
        "\n",
        "lst = ['carro', 'manivela', 'amigo']\n",
        "\n",
        "comprimentos(lst)"
      ],
      "metadata": {
        "colab": {
          "base_uri": "https://localhost:8080/"
        },
        "id": "Dk-oHRPnys2z",
        "outputId": "908902cd-c21e-46ed-f5fd-83368ac10a1e"
      },
      "execution_count": 10,
      "outputs": [
        {
          "output_type": "execute_result",
          "data": {
            "text/plain": [
              "[['carro', 5], ['manivela', 8], ['amigo', 5]]"
            ]
          },
          "metadata": {},
          "execution_count": 10
        }
      ]
    }
  ]
}