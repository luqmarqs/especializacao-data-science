{
  "nbformat": 4,
  "nbformat_minor": 0,
  "metadata": {
    "colab": {
      "provenance": []
    },
    "kernelspec": {
      "name": "python3",
      "display_name": "Python 3"
    },
    "language_info": {
      "name": "python"
    }
  },
  "cells": [
    {
      "cell_type": "code",
      "execution_count": 26,
      "metadata": {
        "colab": {
          "base_uri": "https://localhost:8080/"
        },
        "id": "PSNju7fHMjuo",
        "outputId": "743aca33-9086-4a58-e8c4-065637017b96"
      },
      "outputs": [
        {
          "output_type": "stream",
          "name": "stderr",
          "text": [
            "/usr/local/lib/python3.10/dist-packages/urllib3/connectionpool.py:1045: InsecureRequestWarning: Unverified HTTPS request is being made to host 'www.ibge.gov.br'. Adding certificate verification is strongly advised. See: https://urllib3.readthedocs.io/en/1.26.x/advanced-usage.html#ssl-warnings\n",
            "  warnings.warn(\n"
          ]
        },
        {
          "output_type": "stream",
          "name": "stdout",
          "text": [
            "A densidade demgráfica de  São Paulo  é  46.649.132   pessoas\n"
          ]
        },
        {
          "output_type": "stream",
          "name": "stderr",
          "text": [
            "/usr/local/lib/python3.10/dist-packages/urllib3/connectionpool.py:1045: InsecureRequestWarning: Unverified HTTPS request is being made to host 'www.ibge.gov.br'. Adding certificate verification is strongly advised. See: https://urllib3.readthedocs.io/en/1.26.x/advanced-usage.html#ssl-warnings\n",
            "  warnings.warn(\n"
          ]
        },
        {
          "output_type": "stream",
          "name": "stdout",
          "text": [
            "A densidade demgráfica de  Campinas  é  1.359,60   hab/km²\n"
          ]
        },
        {
          "output_type": "stream",
          "name": "stderr",
          "text": [
            "/usr/local/lib/python3.10/dist-packages/urllib3/connectionpool.py:1045: InsecureRequestWarning: Unverified HTTPS request is being made to host 'www.ibge.gov.br'. Adding certificate verification is strongly advised. See: https://urllib3.readthedocs.io/en/1.26.x/advanced-usage.html#ssl-warnings\n",
            "  warnings.warn(\n"
          ]
        },
        {
          "output_type": "stream",
          "name": "stdout",
          "text": [
            "A densidade demgráfica de  Porto Alegre  é  2.837,53   hab/km²\n"
          ]
        },
        {
          "output_type": "stream",
          "name": "stderr",
          "text": [
            "/usr/local/lib/python3.10/dist-packages/urllib3/connectionpool.py:1045: InsecureRequestWarning: Unverified HTTPS request is being made to host 'www.ibge.gov.br'. Adding certificate verification is strongly advised. See: https://urllib3.readthedocs.io/en/1.26.x/advanced-usage.html#ssl-warnings\n",
            "  warnings.warn(\n"
          ]
        },
        {
          "output_type": "stream",
          "name": "stdout",
          "text": [
            "A densidade demgráfica de  Salvador  é  3.859,44   hab/km²\n"
          ]
        }
      ],
      "source": [
        "import requests\n",
        "from bs4 import BeautifulSoup as bs\n",
        "import re\n",
        "\n",
        "lista_cidades = ['https://www.ibge.gov.br/cidades-e-estados/sp.html', 'https://www.ibge.gov.br/cidades-e-estados/sp/campinas.html', 'https://www.ibge.gov.br/cidades-e-estados/rs/porto-alegre.html', 'https://www.ibge.gov.br/cidades-e-estados/ba/salvador.html' ]\n",
        "\n",
        "for cidade in lista_cidades:\n",
        "  page = requests.get(cidade, verify = False)\n",
        "  soup = bs(page.content, 'html.parser')\n",
        "\n",
        "  elements = soup.find_all('p', class_ = 'ind-value')\n",
        "  cidade = soup.find_all('h1')[1].get_text()\n",
        "  dd = elements[4].get_text().split()\n",
        "\n",
        "  print('A densidade demgráfica de ', cidade, ' é ', dd[0], ' ',dd[1])"
      ]
    }
  ]
}